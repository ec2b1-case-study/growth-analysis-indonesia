{
 "cells": [
  {
   "cell_type": "markdown",
   "metadata": {},
   "source": [
    "### 1. Import Modules ⚙️"
   ]
  },
  {
   "cell_type": "code",
   "execution_count": 12,
   "metadata": {},
   "outputs": [],
   "source": [
    "# 1) import modules\n",
    "\n",
    "import numpy as np\n",
    "import pandas as pd # import library for data analysis\n",
    "import openpyxl # for reading excel files\n",
    "\n",
    "from get_regression_coefs_general import get_regression_coefs # import our function to get GDP trend\n",
    "\n",
    "# For plotting\n",
    "import matplotlib.pyplot as plt # for plotting\n",
    "import seaborn as sns # for nicer plots\n",
    "sns.set_theme('talk', style = 'white')"
   ]
  },
  {
   "cell_type": "markdown",
   "metadata": {},
   "source": [
    "### 2. Data Processing\n",
    "\n",
    "In this section, we need to load the data and clean it."
   ]
  },
  {
   "cell_type": "code",
   "execution_count": 15,
   "metadata": {},
   "outputs": [],
   "source": [
    "# Load dataset\n",
    "data = pd.read_excel('pwt100.xlsx', sheet_name = 'Data', header = 0)"
   ]
  },
  {
   "cell_type": "code",
   "execution_count": 14,
   "metadata": {},
   "outputs": [],
   "source": [
    "# Clean data \n",
    "\n",
    "# Subset relevant columns and compute per capita real GDP\n",
    "data = data.loc[:, (\"country\", \"year\", \"rgdpna\", \"pop\", \"emp\", \"rnna\")]\n",
    "data[\"rgdpna_pc\"] = data[\"rgdpna\"] / data[\"pop\"]\n",
    "\n",
    "# Select Indonesia as country\n",
    "data = data.loc[data[\"country\"] == \"Indonesia\", (\"year\", \"rgdpna_pc\", \"rgdpna\", \"emp\", \"rnna\")]\n",
    "data = data.reset_index(drop = True)\n",
    "\n",
    "# Subset the RGDP per capita series\n",
    "ymax = 2019\n",
    "ymin = 1960\n",
    "Y = data.loc[np.logical_and(data[\"year\"] <= ymax, data[\"year\"] >= ymin), \"rgdpna_pc\"]\n",
    "y = np.log(Y)\n",
    "data = data[data[\"year\"] >= ymin] \n",
    "\n",
    "# Compute separate sample sizes for the subsample used for regression and the whole sample\n",
    "T = len(Y) # sample size used for regression\n",
    "T_all = data[\"year\"].max() - (ymin - 1) # number of all years in the data "
   ]
  },
  {
   "cell_type": "markdown",
   "metadata": {},
   "source": [
    "### 3. Computing Different Trend Specifications\n",
    "\n",
    "We want to compute four different specifications: \n",
    "\n",
    "(i) additive + linear \n",
    "\n",
    "(ii) additive + quadratic\n",
    "\n",
    "(iii) exponential + linear \n",
    "\n",
    "(iv) exponential + quadratic."
   ]
  },
  {
   "cell_type": "markdown",
   "metadata": {},
   "source": [
    "#### 3.1.1 Additive + Linear Time Trend"
   ]
  },
  {
   "cell_type": "code",
   "execution_count": null,
   "metadata": {},
   "outputs": [],
   "source": []
  },
  {
   "cell_type": "markdown",
   "metadata": {},
   "source": [
    "#### 3.1.2 Additive + Quadratic Time Trend"
   ]
  },
  {
   "cell_type": "code",
   "execution_count": null,
   "metadata": {},
   "outputs": [],
   "source": []
  },
  {
   "cell_type": "markdown",
   "metadata": {},
   "source": [
    "#### 3.1.3 Exponential + Linear Time Trend"
   ]
  },
  {
   "cell_type": "code",
   "execution_count": null,
   "metadata": {},
   "outputs": [],
   "source": []
  },
  {
   "cell_type": "markdown",
   "metadata": {},
   "source": [
    "#### 3.1.4 Exponential + Quadratic Time Trend"
   ]
  },
  {
   "cell_type": "code",
   "execution_count": null,
   "metadata": {},
   "outputs": [],
   "source": []
  },
  {
   "cell_type": "markdown",
   "metadata": {},
   "source": [
    "### 4. Extract TFP measure"
   ]
  },
  {
   "cell_type": "code",
   "execution_count": null,
   "metadata": {},
   "outputs": [],
   "source": []
  }
 ],
 "metadata": {
  "kernelspec": {
   "display_name": "base",
   "language": "python",
   "name": "python3"
  },
  "language_info": {
   "codemirror_mode": {
    "name": "ipython",
    "version": 3
   },
   "file_extension": ".py",
   "mimetype": "text/x-python",
   "name": "python",
   "nbconvert_exporter": "python",
   "pygments_lexer": "ipython3",
   "version": "3.11.5"
  }
 },
 "nbformat": 4,
 "nbformat_minor": 2
}
